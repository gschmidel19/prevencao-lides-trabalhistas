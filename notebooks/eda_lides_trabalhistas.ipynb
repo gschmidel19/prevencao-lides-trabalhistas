{
 "cells": [
  {
   "cell_type": "code",
   "execution_count": null,
   "id": "f0041e24",
   "metadata": {},
   "outputs": [],
   "source": [
    "import pandas as pd\n",
    "import matplotlib.pyplot as plt\n",
    "import seaborn as sns\n",
    "import plotly.express as px\n",
    "\n",
    "# Configurações iniciais\n",
    "sns.set(style=\"whitegrid\")\n",
    "plt.rcParams['figure.figsize'] = (10, 6)\n",
    "\n",
    "# Carregar o dataset\n",
    "df = pd.read_csv('lides_trabalhistas_simulado.csv', parse_dates=['data_ajuizamento'])\n",
    "df.head()\n"
   ]
  },
  {
   "cell_type": "code",
   "execution_count": null,
   "id": "fb452d7e",
   "metadata": {},
   "outputs": [],
   "source": [
    "df.info()\n",
    "df.describe(include='all')\n"
   ]
  },
  {
   "cell_type": "code",
   "execution_count": null,
   "id": "aa0ca5f4",
   "metadata": {},
   "outputs": [],
   "source": [
    "plt.figure(figsize=(10, 6))\n",
    "sns.countplot(data=df, y='causa_principal', order=df['causa_principal'].value_counts().index, palette='viridis')\n",
    "plt.title('Distribuição de Ações por Causa Principal')\n",
    "plt.xlabel('Quantidade')\n",
    "plt.ylabel('Causa')\n",
    "plt.tight_layout()\n",
    "plt.show()\n"
   ]
  },
  {
   "cell_type": "code",
   "execution_count": null,
   "id": "7712d5c2",
   "metadata": {},
   "outputs": [],
   "source": [
    "fig = px.histogram(df, x='estado', color='resultado_final', barmode='group',\n",
    "                   title='Distribuição de Ações por Estado e Resultado')\n",
    "fig.show()\n"
   ]
  },
  {
   "cell_type": "code",
   "execution_count": null,
   "id": "8eac5828",
   "metadata": {},
   "outputs": [],
   "source": [
    "plt.figure(figsize=(10, 6))\n",
    "sns.boxplot(data=df, x='tipo_contratacao', y='valor_acao', palette='Set2')\n",
    "plt.title('Distribuição dos Valores das Ações por Tipo de Contratação')\n",
    "plt.ylabel('Valor da Ação (R$)')\n",
    "plt.xlabel('Tipo de Contratação')\n",
    "plt.tight_layout()\n",
    "plt.show()\n"
   ]
  },
  {
   "cell_type": "code",
   "execution_count": null,
   "id": "9c40dc69",
   "metadata": {},
   "outputs": [],
   "source": [
    "df['mes_ano'] = df['data_ajuizamento'].dt.to_period('M')\n",
    "evolucao = df.groupby('mes_ano').size().reset_index(name='qtd_acoes')\n",
    "evolucao['mes_ano'] = evolucao['mes_ano'].astype(str)\n",
    "\n",
    "fig = px.line(evolucao, x='mes_ano', y='qtd_acoes', title='Evolução Mensal das Ações Trabalhistas')\n",
    "fig.update_xaxes(title='Mês/Ano')\n",
    "fig.update_yaxes(title='Quantidade de Ações')\n",
    "fig.show()\n"
   ]
  },
  {
   "cell_type": "code",
   "execution_count": null,
   "id": "d2d82ee6",
   "metadata": {},
   "outputs": [],
   "source": [
    "plt.figure(figsize=(10, 6))\n",
    "sns.countplot(data=df, x='porte_empresa', hue='tipo_contratacao', palette='Set2')\n",
    "plt.title('Tipo de Contratação por Porte da Empresa')\n",
    "plt.xlabel('Porte da Empresa')\n",
    "plt.ylabel('Quantidade')\n",
    "plt.tight_layout()\n",
    "plt.show()\n"
   ]
  },
  {
   "cell_type": "code",
   "execution_count": null,
   "id": "9844be3b",
   "metadata": {},
   "outputs": [],
   "source": [
    "df.groupby('setor')['valor_acao'].mean().sort_values(ascending=False).plot(kind='bar', color='coral')\n",
    "plt.title('Valor Médio das Ações por Setor')\n",
    "plt.xlabel('Setor')\n",
    "plt.ylabel('Valor Médio (R$)')\n",
    "plt.tight_layout()\n",
    "plt.show()\n"
   ]
  },
  {
   "cell_type": "code",
   "execution_count": null,
   "id": "6449810b",
   "metadata": {},
   "outputs": [],
   "source": [
    "df['ano_mes'] = df['data_ajuizamento'].dt.to_period('M')\n",
    "df.groupby('ano_mes').size().plot(kind='line', marker='o')\n",
    "plt.title('Evolução do Número de Ações Trabalhistas')\n",
    "plt.xlabel('Ano-Mês')\n",
    "plt.ylabel('Quantidade de Ações')\n",
    "plt.xticks(rotation=45)\n",
    "plt.tight_layout()\n",
    "plt.show()\n"
   ]
  }
 ],
 "metadata": {},
 "nbformat": 4,
 "nbformat_minor": 5
}
